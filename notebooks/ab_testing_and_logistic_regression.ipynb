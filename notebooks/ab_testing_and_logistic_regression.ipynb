{
 "cells": [
  {
   "cell_type": "code",
   "execution_count": 12,
   "id": "bd9ddb95",
   "metadata": {},
   "outputs": [],
   "source": [
    "import psycopg2\n",
    "import pandas as pd\n",
    "import matplotlib.pyplot as plt\n",
    "import seaborn as sns\n",
    "from scipy import stats\n",
    "from sklearn.model_selection import train_test_split\n",
    "from sklearn.linear_model import LogisticRegression"
   ]
  },
  {
   "cell_type": "code",
   "execution_count": 13,
   "id": "c458ba9d",
   "metadata": {},
   "outputs": [],
   "source": [
    "# 1. Kết nối đến database PostgreSQL\n",
    "conn = psycopg2.connect(\n",
    "    dbname=\"marketing_campaign\", \n",
    "    user=\"postgres\", \n",
    "    password=\"Mayvabien_1911pg\",\n",
    "    host=\"localhost\", \n",
    "    port=\"1911\"\n",
    ")"
   ]
  },
  {
   "cell_type": "code",
   "execution_count": 14,
   "id": "5ba53089",
   "metadata": {},
   "outputs": [
    {
     "name": "stderr",
     "output_type": "stream",
     "text": [
      "C:\\Users\\thanh\\AppData\\Local\\Temp\\ipykernel_15272\\3415443626.py:6: UserWarning: pandas only supports SQLAlchemy connectable (engine/connection) or database string URI or sqlite3 DBAPI2 connection. Other DBAPI2 objects are not tested. Please consider using SQLAlchemy.\n",
      "  df_transactions = pd.read_sql(query_transactions, conn)\n",
      "C:\\Users\\thanh\\AppData\\Local\\Temp\\ipykernel_15272\\3415443626.py:7: UserWarning: pandas only supports SQLAlchemy connectable (engine/connection) or database string URI or sqlite3 DBAPI2 connection. Other DBAPI2 objects are not tested. Please consider using SQLAlchemy.\n",
      "  df_campaigns = pd.read_sql(query_campaigns, conn)\n",
      "C:\\Users\\thanh\\AppData\\Local\\Temp\\ipykernel_15272\\3415443626.py:8: UserWarning: pandas only supports SQLAlchemy connectable (engine/connection) or database string URI or sqlite3 DBAPI2 connection. Other DBAPI2 objects are not tested. Please consider using SQLAlchemy.\n",
      "  df_customers = pd.read_sql(query_customers, conn)\n"
     ]
    }
   ],
   "source": [
    "# 2. Lấy dữ liệu\n",
    "query_transactions = \"SELECT customer_id, campaign_id, transaction_id, transaction_date, amount FROM transactions\"\n",
    "query_campaigns = \"SELECT customer_id, campaign_id FROM customer_campaigns\"\n",
    "query_customers = \"SELECT customer_id, age, income FROM customers\"\n",
    "\n",
    "df_transactions = pd.read_sql(query_transactions, conn)\n",
    "df_campaigns = pd.read_sql(query_campaigns, conn)\n",
    "df_customers = pd.read_sql(query_customers, conn)\n",
    "\n",
    "conn.close()"
   ]
  },
  {
   "cell_type": "code",
   "execution_count": 15,
   "id": "9edb3a5f",
   "metadata": {},
   "outputs": [],
   "source": [
    "# 3. Tính conversion cho từng khách (1 nếu có giao dịch, 0 nếu không)\n",
    "# Merge customer_campaigns với transactions để xác định khách nào mua\n",
    "df_merged = df_campaigns.merge(df_transactions[['customer_id', 'campaign_id', 'transaction_id']], \n",
    "                                on=['customer_id', 'campaign_id'], \n",
    "                                how='left')\n",
    "\n",
    "df_merged['conversion'] = df_merged['transaction_id'].notnull().astype(int)"
   ]
  },
  {
   "cell_type": "code",
   "execution_count": 16,
   "id": "a0988452",
   "metadata": {},
   "outputs": [
    {
     "name": "stdout",
     "output_type": "stream",
     "text": [
      "   campaign_id  conversion  conversion_rate_percent\n",
      "0            1    0.837209                    83.72\n",
      "1            2    0.805195                    80.52\n"
     ]
    }
   ],
   "source": [
    "\n",
    "# 4. Tính conversion_rate mỗi campaign\n",
    "conversion_rate_df = df_merged.groupby('campaign_id')['conversion'].mean().reset_index()\n",
    "conversion_rate_df['conversion_rate_percent'] = (conversion_rate_df['conversion'] * 100).round(2)\n",
    "\n",
    "print(conversion_rate_df)"
   ]
  },
  {
   "cell_type": "code",
   "execution_count": 11,
   "id": "dcabf74b",
   "metadata": {},
   "outputs": [
    {
     "name": "stdout",
     "output_type": "stream",
     "text": [
      "Conversion Rate for Campaign A: 72.00%\n",
      "Conversion Rate for Campaign B: 67.39%\n"
     ]
    }
   ],
   "source": [
    "# 5. Tính Conversion Rate đúng cách:\n",
    "\n",
    "# - Tổng số khách được assign vào Campaign A và B\n",
    "total_customers_a = df_campaigns[df_campaigns['campaign_id'] == 1]['customer_id'].nunique()\n",
    "total_customers_b = df_campaigns[df_campaigns['campaign_id'] == 2]['customer_id'].nunique()\n",
    "\n",
    "# - Số khách thực sự đã thực hiện giao dịch\n",
    "purchased_customers_a = df_transactions[df_transactions['campaign_id'] == 1]['customer_id'].nunique()\n",
    "purchased_customers_b = df_transactions[df_transactions['campaign_id'] == 2]['customer_id'].nunique()\n",
    "\n",
    "# - Tính Conversion Rate\n",
    "conversion_rate_a = purchased_customers_a / total_customers_a\n",
    "conversion_rate_b = purchased_customers_b / total_customers_b\n",
    "\n",
    "# 6. In kết quả\n",
    "print(f\"Conversion Rate for Campaign A: {conversion_rate_a:.2%}\")\n",
    "print(f\"Conversion Rate for Campaign B: {conversion_rate_b:.2%}\")"
   ]
  },
  {
   "cell_type": "code",
   "execution_count": 17,
   "id": "261c64fd",
   "metadata": {},
   "outputs": [
    {
     "name": "stdout",
     "output_type": "stream",
     "text": [
      "T-Statistic for Conversion Rate: 0.5307407106151176\n",
      "P-Value for Conversion Rate: 0.5963298104529998\n"
     ]
    }
   ],
   "source": [
    "# 5. T-Test: So sánh tỷ lệ chuyển đổi giữa 2 campaign\n",
    "conversion_a = df_merged[df_merged['campaign_id'] == 1]['conversion']\n",
    "conversion_b = df_merged[df_merged['campaign_id'] == 2]['conversion']\n",
    "\n",
    "t_stat, p_value = stats.ttest_ind(conversion_a, conversion_b)\n",
    "\n",
    "print(f\"T-Statistic for Conversion Rate: {t_stat}\")\n",
    "print(f\"P-Value for Conversion Rate: {p_value}\")\n"
   ]
  },
  {
   "cell_type": "code",
   "execution_count": 18,
   "id": "116f8e01",
   "metadata": {},
   "outputs": [
    {
     "name": "stdout",
     "output_type": "stream",
     "text": [
      "T-Statistic for Revenue: 1.0528724871042776\n",
      "P-Value for Revenue: 0.29432295724177404\n"
     ]
    }
   ],
   "source": [
    "# 6. T-Test: So sánh doanh thu (revenue)\n",
    "revenue_a = df_transactions[df_transactions['campaign_id'] == 1]['amount']\n",
    "revenue_b = df_transactions[df_transactions['campaign_id'] == 2]['amount']\n",
    "\n",
    "t_stat_revenue, p_value_revenue = stats.ttest_ind(revenue_a, revenue_b)\n",
    "\n",
    "print(f\"T-Statistic for Revenue: {t_stat_revenue}\")\n",
    "print(f\"P-Value for Revenue: {p_value_revenue}\")"
   ]
  },
  {
   "cell_type": "code",
   "execution_count": 19,
   "id": "5ed7afca",
   "metadata": {},
   "outputs": [
    {
     "data": {
      "image/png": "[encoded data removed]",
      "text/plain": [
       "<Figure size 800x500 with 1 Axes>"
      ]
     },
     "metadata": {},
     "output_type": "display_data"
    }
   ],
   "source": [
    "# 7. Vẽ biểu đồ conversion rate\n",
    "plt.figure(figsize=(8, 5))\n",
    "sns.barplot(x='campaign_id', y='conversion_rate_percent', data=conversion_rate_df)\n",
    "plt.title('Conversion Rate (%) for Each Campaign')\n",
    "plt.ylabel('Conversion Rate (%)')\n",
    "plt.xlabel('Campaign ID')\n",
    "plt.show()\n"
   ]
  },
  {
   "cell_type": "code",
   "execution_count": 20,
   "id": "043aa401",
   "metadata": {},
   "outputs": [
    {
     "name": "stdout",
     "output_type": "stream",
     "text": [
      "Accuracy of Logistic Regression Model: 78.79%\n"
     ]
    }
   ],
   "source": [
    "# 8. Logistic Regression: Dự đoán khả năng mua hàng\n",
    "# Merge thêm thông tin customer (age, income)\n",
    "df_model = df_merged.merge(df_customers, on='customer_id', how='left')\n",
    "\n",
    "# X: đặc trưng, y: biến mục tiêu\n",
    "X = df_model[['age', 'income']]\n",
    "y = df_model['conversion']\n",
    "\n",
    "# Chia tập train/test\n",
    "X_train, X_test, y_train, y_test = train_test_split(X, y, test_size=0.2, random_state=42)\n",
    "\n",
    "# Huấn luyện Logistic Regression\n",
    "model = LogisticRegression()\n",
    "model.fit(X_train, y_train)\n",
    "\n",
    "# Dự đoán\n",
    "y_pred = model.predict(X_test)\n",
    "accuracy = (y_pred == y_test).mean()\n",
    "\n",
    "print(f\"Accuracy of Logistic Regression Model: {accuracy:.2%}\")"
   ]
  }
 ],
 "metadata": {
  "kernelspec": {
   "display_name": "Python 3",
   "language": "python",
   "name": "python3"
  },
  "language_info": {
   "codemirror_mode": {
    "name": "ipython",
    "version": 3
   },
   "file_extension": ".py",
   "mimetype": "text/x-python",
   "name": "python",
   "nbconvert_exporter": "python",
   "pygments_lexer": "ipython3",
   "version": "3.11.9"
  }
 },
 "nbformat": 4,
 "nbformat_minor": 5
}
